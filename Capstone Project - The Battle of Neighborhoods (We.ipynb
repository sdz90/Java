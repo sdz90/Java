{
    "cells": [
        {
            "cell_type": "markdown",
            "metadata": {
                "collapsed": true
            },
            "source": "# <U><center> Data Science Project: Battle of London Boroughs </u>\n\n## <center> Finding suitable locations to open a car wash in London, UK<br>\n## <center> January 2021"
        },
        {
            "cell_type": "markdown",
            "metadata": {},
            "source": "### <U> Contents\n* Introduction\n* Data\n* Methodology\n* Analysis\n* Results\n* Conclusion\n* References\n<br>"
        },
        {
            "cell_type": "markdown",
            "metadata": {},
            "source": "### <U> Introduction\nImagine for a moment that an investor is looking to open a car wash in London, United Kingdom. The investor crunched all of the numbers and on paper it is looking like a good business idea. However, the question now stands about the location. What would be the best place to open a new car wash to maximise return on investment? There is already thriving competition present in the city, and the investor wants to find out which one of Greater London's 32 Boroughs would be the optimum place. <br>\n \nTo anwser this question, the investor turns to the field of **Data Science** in order to explore all of the Boroughs from a deep analytical point of view. The main objective is to explore what each Borough contains, and what each Borough lacks. A perfect outcome would be to find an area that 1) isn't too crowded with competition, 2) has a lot of passing traffic and 3) relatively large population, and then to open up a new car wash in that area."
        },
        {
            "cell_type": "markdown",
            "metadata": {},
            "source": "### <U> Data \n    \nTo anwser the main question of this report, data will be collected from several sources. First, a list of all 32 Greater London Boroughs (excluding city of London as it is predominantly a business district), including latitude and longitude positions and the population of each Borough which can be scraped from the Wikipedia page.\n    \nNext, it is necessary to identify the number and locations of existing car washes in London. Foursquare API is going to be used to help find and extract this information. The API allows one to search for businesses and venues around a given geographic point (like the Borough information from Wikipedia) and find out how many and what types of businesses are in that area. This data will then be extrapolated and prepared for further analysis.\n    \nIn addition, vehicle traffic information (volume) of each Borough will be used from UK's Department of Transport. Data figures give the total volume of traffic across each local authority for the whole year. This will be used in order to assess how much 'potential' traffic there is in each Borough for a given car wash.    \n\nFor further sources of data please refer to the References section.   "
        },
        {
            "cell_type": "markdown",
            "metadata": {},
            "source": "### <U> Methodology\n\nThere are several algorithms that can be used to cluster location data. For this particular exercise, K-means clustering is going to be used to help group car wash locations and analyse the best potential candidate. \n\nK-means aims to partition the observations into a predefined number of clusters (k) in which each point belongs to the cluster with the nearest mean. It starts by randomly selecting k centroids and assigning the points to the closest cluster, then it updates each centroid with the mean of all points in the cluster through iterating the data. This algorithm is convenient when you need to get a precise number of groups, and it\u2019s more appropriate for a small number of even clusters.\n\nIn order to define the right k, Elbow Method is going to be used by plotting the variance as a function of the number of clusters and picking the k that flattens the curve.\n    \nThe main open source Python libraries that are used are the following:\n    \n**Data Analysis and Manipulation**<br>  \n* Pandas\n* SciPy\n* NumPy\n    \n**Data Visualisation**<br>    \n* Matplotlib\n* Seaborn\n* Folium \n    \n**Machine Learning**<br>  \n* Scikit-Learn"
        },
        {
            "cell_type": "code",
            "execution_count": null,
            "metadata": {},
            "outputs": [],
            "source": ""
        }
    ],
    "metadata": {
        "kernelspec": {
            "display_name": "Python 3.7",
            "language": "python",
            "name": "python3"
        },
        "language_info": {
            "codemirror_mode": {
                "name": "ipython",
                "version": 3
            },
            "file_extension": ".py",
            "mimetype": "text/x-python",
            "name": "python",
            "nbconvert_exporter": "python",
            "pygments_lexer": "ipython3",
            "version": "3.7.9"
        }
    },
    "nbformat": 4,
    "nbformat_minor": 1
}